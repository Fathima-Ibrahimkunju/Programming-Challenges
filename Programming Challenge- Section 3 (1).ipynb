{
 "cells": [
  {
   "cell_type": "code",
   "execution_count": 3,
   "id": "a0636bc2",
   "metadata": {},
   "outputs": [
    {
     "name": "stdout",
     "output_type": "stream",
     "text": [
      "Which sentence would you like copied?Don't behave like a muppet in class.\n",
      "Don't behave like a muppet in class.\n",
      "Don't behave like a muppet in class.\n",
      "Don't behave like a muppet in class.\n",
      "Don't behave like a muppet in class.\n",
      "Don't behave like a muppet in class.\n",
      "Don't behave like a muppet in class.\n",
      "Don't behave like a muppet in class.\n",
      "Don't behave like a muppet in class.\n",
      "Don't behave like a muppet in class.\n",
      "Don't behave like a muppet in class.\n",
      "Don't behave like a muppet in class.\n",
      "Don't behave like a muppet in class.\n",
      "Don't behave like a muppet in class.\n",
      "Don't behave like a muppet in class.\n",
      "Don't behave like a muppet in class.\n",
      "Don't behave like a muppet in class.\n",
      "Don't behave like a muppet in class.\n",
      "Don't behave like a muppet in class.\n",
      "Don't behave like a muppet in class.\n",
      "Don't behave like a muppet in class.\n"
     ]
    }
   ],
   "source": [
    "#Program 28- Lines Cheat\n",
    "\n",
    "s=input('Which sentence would you like copied?')\n",
    "for counter in range(20):\n",
    "    print(s)"
   ]
  },
  {
   "cell_type": "code",
   "execution_count": 6,
   "id": "db3b3c6d",
   "metadata": {},
   "outputs": [
    {
     "name": "stdout",
     "output_type": "stream",
     "text": [
      "Please enter the first amount raised.398\n",
      "Please enter the second amount raised.193\n",
      "Please enter the third amount raised.478\n",
      "A total of 1069.0 was raised.\n",
      "This will be doubled to:\n",
      "2138.0\n",
      "2138.0\n",
      "2138.0\n"
     ]
    }
   ],
   "source": [
    "#Program 29- Charity Collection (Part 3)\n",
    "\n",
    "a1=float(input('Please enter the first amount raised.'))\n",
    "a2=float(input('Please enter the second amount raised.'))\n",
    "a3=float(input('Please enter the third amount raised.'))\n",
    "a=a1+a2+a3\n",
    "print(\"A total of\",a,\"was raised.\")\n",
    "if a<1000: \n",
    "    print(\"With a company bonus, this is:\")\n",
    "    for counter in range(3):    \n",
    "        print(a+100)\n",
    "if a>=1000 and a<2000:\n",
    "    print(\"This will be doubled to:\")\n",
    "    for counter in range(3):\n",
    "        print(a*2)\n",
    "if a>=2000:\n",
    "    print(\"With a company bonus, this is:\")\n",
    "    for counter in range(3):\n",
    "        print((2*2000)+(a-2000),'!!!')"
   ]
  },
  {
   "cell_type": "code",
   "execution_count": 7,
   "id": "34ea252a",
   "metadata": {},
   "outputs": [
    {
     "name": "stdout",
     "output_type": "stream",
     "text": [
      "Please enter first name.Matt\n",
      "Please enter surname.Reid\n",
      "M R MATT reid MattReid\n",
      "MattReid REID matt r m\n",
      "M R MATT reid MattReid\n",
      "MattReid REID matt r m\n",
      "M R MATT reid MattReid\n",
      "MattReid REID matt r m\n"
     ]
    }
   ],
   "source": [
    "#Program 30- Name switch\n",
    "\n",
    "f=input('Please enter first name.')\n",
    "s=input('Please enter surname.')\n",
    "for name in range(3):\n",
    "    print(f[:1],s[:1],f.upper(),s.lower(),f+s)\n",
    "    print(f+s,s.upper(),f.lower(),s[:1].lower(),f[:1].lower())"
   ]
  },
  {
   "cell_type": "code",
   "execution_count": 8,
   "id": "fb32f787",
   "metadata": {},
   "outputs": [
    {
     "name": "stdout",
     "output_type": "stream",
     "text": [
      "Please enter the score for each ball.0\n",
      "Please enter the score for each ball.2\n",
      "Please enter the score for each ball.0\n",
      "Please enter the score for each ball.0\n",
      "Please enter the score for each ball.4\n",
      "Please enter the score for each ball.6\n",
      "This over's score was: 12 .\n"
     ]
    }
   ],
   "source": [
    "#Program 31- Cricket over\n",
    "\n",
    "score=0\n",
    "for runs in range(6):\n",
    "    s=int(input('Please enter the score for each ball.'))\n",
    "    score=score+s\n",
    "print(\"This over's score was:\",score,\".\")"
   ]
  },
  {
   "cell_type": "code",
   "execution_count": 9,
   "id": "c782fb0d",
   "metadata": {},
   "outputs": [
    {
     "name": "stdout",
     "output_type": "stream",
     "text": [
      "Please enter the seven temperatures12\n",
      "Please enter the seven temperatures14\n",
      "Please enter the seven temperatures7\n",
      "Please enter the seven temperatures6\n",
      "Please enter the seven temperatures7\n",
      "Please enter the seven temperatures11\n",
      "Please enter the seven temperatures11\n",
      "This week's average was:\n",
      "9.71 degrees centigrade.\n"
     ]
    }
   ],
   "source": [
    "#Program 32- Average temperature\n",
    "\n",
    "temp=0\n",
    "for counter in range(7):\n",
    "    t=float(input('Please enter the seven temperatures'))\n",
    "    temp=temp+t\n",
    "print(\"This week's average was:\")\n",
    "print(round(temp/7,2),\"degrees centigrade.\")"
   ]
  },
  {
   "cell_type": "code",
   "execution_count": 10,
   "id": "8627d502",
   "metadata": {},
   "outputs": [
    {
     "name": "stdout",
     "output_type": "stream",
     "text": [
      "Which sentence would you like copied?Mr Reid is the best teacher.\n",
      "How many times would you like this copied?54\n",
      "Mr Reid is the best teacher.\n",
      "Mr Reid is the best teacher.\n",
      "Mr Reid is the best teacher.\n",
      "Mr Reid is the best teacher.\n",
      "Mr Reid is the best teacher.\n",
      "Mr Reid is the best teacher.\n",
      "Mr Reid is the best teacher.\n",
      "Mr Reid is the best teacher.\n",
      "Mr Reid is the best teacher.\n",
      "Mr Reid is the best teacher.\n",
      "Mr Reid is the best teacher.\n",
      "Mr Reid is the best teacher.\n",
      "Mr Reid is the best teacher.\n",
      "Mr Reid is the best teacher.\n",
      "Mr Reid is the best teacher.\n",
      "Mr Reid is the best teacher.\n",
      "Mr Reid is the best teacher.\n",
      "Mr Reid is the best teacher.\n",
      "Mr Reid is the best teacher.\n",
      "Mr Reid is the best teacher.\n",
      "Mr Reid is the best teacher.\n",
      "Mr Reid is the best teacher.\n",
      "Mr Reid is the best teacher.\n",
      "Mr Reid is the best teacher.\n",
      "Mr Reid is the best teacher.\n",
      "Mr Reid is the best teacher.\n",
      "Mr Reid is the best teacher.\n",
      "Mr Reid is the best teacher.\n",
      "Mr Reid is the best teacher.\n",
      "Mr Reid is the best teacher.\n",
      "Mr Reid is the best teacher.\n",
      "Mr Reid is the best teacher.\n",
      "Mr Reid is the best teacher.\n",
      "Mr Reid is the best teacher.\n",
      "Mr Reid is the best teacher.\n",
      "Mr Reid is the best teacher.\n",
      "Mr Reid is the best teacher.\n",
      "Mr Reid is the best teacher.\n",
      "Mr Reid is the best teacher.\n",
      "Mr Reid is the best teacher.\n",
      "Mr Reid is the best teacher.\n",
      "Mr Reid is the best teacher.\n",
      "Mr Reid is the best teacher.\n",
      "Mr Reid is the best teacher.\n",
      "Mr Reid is the best teacher.\n",
      "Mr Reid is the best teacher.\n",
      "Mr Reid is the best teacher.\n",
      "Mr Reid is the best teacher.\n",
      "Mr Reid is the best teacher.\n",
      "Mr Reid is the best teacher.\n",
      "Mr Reid is the best teacher.\n",
      "Mr Reid is the best teacher.\n",
      "Mr Reid is the best teacher.\n",
      "Mr Reid is the best teacher.\n"
     ]
    }
   ],
   "source": [
    "#Program 33- Lines cheat (part 2)\n",
    "\n",
    "s=input('Which sentence would you like copied?')\n",
    "t=int(input('How many times would you like this copied?'))\n",
    "for counter in range(t):\n",
    "    print(s)"
   ]
  },
  {
   "cell_type": "code",
   "execution_count": 12,
   "id": "b476d05a",
   "metadata": {},
   "outputs": [
    {
     "name": "stdout",
     "output_type": "stream",
     "text": [
      "How many charity raisers were there?6\n",
      "Enter the total raised by each.\n",
      "238\n",
      "624\n",
      "546\n",
      "333\n",
      "651\n",
      "174\n",
      "A total of 2566.0 was raised.\n",
      "With a company bonus, this is:\n",
      "4566.0\n",
      "4566.0\n",
      "4566.0\n"
     ]
    }
   ],
   "source": [
    "#Program 34- Charity collection (part 4)\n",
    "\n",
    "n=int(input('How many charity raisers were there?'))\n",
    "total=0\n",
    "print('Enter the total raised by each.')\n",
    "for counter in range(n):\n",
    "    \n",
    "    t=float(input())\n",
    "    total=total+t\n",
    "print(\"A total of\",total,\"was raised.\")\n",
    "if total<1000: \n",
    "    print(\"With a company bonus, this is:\")\n",
    "    for counter in range(3):    \n",
    "        print(total+100)\n",
    "if total>=1000 and total<2000:\n",
    "    print(\"This will be doubled to:\")\n",
    "    for counter in range(3):\n",
    "        print(total*2)\n",
    "if total>=2000:\n",
    "    print(\"With a company bonus, this is:\")\n",
    "    for counter in range(3):\n",
    "        print((2*2000)+(total-2000))"
   ]
  },
  {
   "cell_type": "code",
   "execution_count": 13,
   "id": "89598718",
   "metadata": {},
   "outputs": [
    {
     "name": "stdout",
     "output_type": "stream",
     "text": [
      "Please enter the number of students.3\n",
      "Enter the time in seconds for each student.\n",
      "Student 1\n",
      "82\n",
      "Student 2\n",
      "67\n",
      "Student 3\n",
      "45\n",
      "The average time for the three students was:\n",
      "64.67 seconds.\n"
     ]
    }
   ],
   "source": [
    "#Program 35- Press up challenge\n",
    "\n",
    "n=int(input('Please enter the number of students.'))\n",
    "print('Enter the time in seconds for each student.')\n",
    "time=0\n",
    "for counter in range(n):\n",
    "    print(\"Student\",counter+1)\n",
    "    t=int(input())\n",
    "    time=time+t\n",
    "print(\"The average time for the three students was:\")\n",
    "print(round(time/n,2),\"seconds.\")"
   ]
  },
  {
   "cell_type": "code",
   "execution_count": 14,
   "id": "5a92cf36",
   "metadata": {},
   "outputs": [
    {
     "name": "stdout",
     "output_type": "stream",
     "text": [
      "Odd number list\n",
      "1\n",
      "3\n",
      "5\n",
      "7\n",
      "9\n",
      "11\n"
     ]
    }
   ],
   "source": [
    "#Program 36- Number patterns\n",
    "\n",
    "print('Odd number list')\n",
    "for counter in range(1,12,2):\n",
    "    print(counter)"
   ]
  },
  {
   "cell_type": "code",
   "execution_count": 15,
   "id": "ecc6b20c",
   "metadata": {},
   "outputs": [
    {
     "name": "stdout",
     "output_type": "stream",
     "text": [
      "The following program will display odd numbers.\n",
      "Enter the first number in the list5\n",
      "Enter the last number in the list13\n",
      "5\n",
      "7\n",
      "9\n",
      "11\n",
      "13\n"
     ]
    }
   ],
   "source": [
    "#Program 37- Number pattern (part 2)\n",
    "\n",
    "print('The following program will display odd numbers.')\n",
    "f=int(input('Enter the first number in the list'))\n",
    "l=int(input('Enter the last number in the list'))\n",
    "for counter in range(f,l+1,2):\n",
    "    print(counter)"
   ]
  },
  {
   "cell_type": "code",
   "execution_count": 16,
   "id": "7d7b661f",
   "metadata": {},
   "outputs": [
    {
     "name": "stdout",
     "output_type": "stream",
     "text": [
      "Please enter the password.snoo;\n",
      "Sorry, incorrect! Try again.\n",
      "Please enter the password.ornery\n",
      "Entry gained!\n"
     ]
    }
   ],
   "source": [
    "#Program 38- Password\n",
    "\n",
    "p=input('Please enter the password.')\n",
    "while p!='ornery':\n",
    "    print(\"Sorry, incorrect! Try again.\")\n",
    "    p=input('Please enter the password.')\n",
    "print(\"Entry gained!\")"
   ]
  },
  {
   "cell_type": "code",
   "execution_count": 17,
   "id": "bb66ea43",
   "metadata": {},
   "outputs": [
    {
     "name": "stdout",
     "output_type": "stream",
     "text": [
      "The following program will display odd numbers.\n",
      "Enter the first number in the list5\n",
      "Enter the last number in the list17\n",
      "Sorry, the number must be atleast 5+20.\n",
      "Please re-enter the number.27\n",
      "Odd numbers list\n",
      "5\n",
      "7\n",
      "9\n",
      "11\n",
      "13\n",
      "15\n",
      "17\n",
      "19\n",
      "21\n",
      "23\n",
      "25\n"
     ]
    }
   ],
   "source": [
    "#Program 39- Number pattern (part 3)\n",
    "\n",
    "print('The following program will display odd numbers.')\n",
    "f=int(input('Enter the first number in the list'))\n",
    "l=int(input('Enter the last number in the list'))\n",
    "while not(l>f+20 or l==f+20):\n",
    "    print(\"Sorry, the number must be atleast\",str(f)+\"+20.\")\n",
    "    l=int(input('Please re-enter the number.'))\n",
    "print(\"Odd numbers list\")\n",
    "for counter in range(f,l,2):\n",
    "    print(counter)"
   ]
  },
  {
   "cell_type": "code",
   "execution_count": 18,
   "id": "44cf409c",
   "metadata": {},
   "outputs": [
    {
     "name": "stdout",
     "output_type": "stream",
     "text": [
      "Would you like some advice?H\n",
      "PLease enter y or n only.\n",
      "Would you like some advice?n\n",
      "Don't be silly. You definitely need advice!\n",
      "Would you like some advice?y\n",
      "Don't feed the trolls!\n"
     ]
    }
   ],
   "source": [
    "#Program 40- Advice please (part 3)\n",
    "\n",
    "\n",
    "Q=str(input(\"Would you like some advice?\"))\n",
    "while not(Q==\"y\" or Q==\"n\"):\n",
    "    print(\"PLease enter y or n only.\")\n",
    "    Q=str(input(\"Would you like some advice?\"))\n",
    "    while Q== \"n\":\n",
    "        print(\"Don't be silly. You definitely need advice!\")\n",
    "        Q=str(input(\"Would you like some advice?\"))\n",
    "print(\"Don't feed the trolls!\")"
   ]
  },
  {
   "cell_type": "code",
   "execution_count": 20,
   "id": "6ccbdbf1",
   "metadata": {},
   "outputs": [
    {
     "name": "stdout",
     "output_type": "stream",
     "text": [
      "Please enter the price of each present:35\n",
      "Please enter the price of each present:100\n",
      "Please enter the price of each present:50\n",
      "Please enter the price of each present:45\n",
      "Limit exceeded.\n",
      "You can't include the £45 present.\n"
     ]
    }
   ],
   "source": [
    "#Program 41- No more presents\n",
    "\n",
    "g=int(input('Please enter the price of each present:'))\n",
    "while g<200:\n",
    "    n=int(input('Please enter the price of each present:'))\n",
    "    g=g+n\n",
    "print(\"Limit exceeded.\")\n",
    "print(\"You can't include the £\"+str(n),\"present.\")"
   ]
  },
  {
   "cell_type": "code",
   "execution_count": 21,
   "id": "372eeb1c",
   "metadata": {},
   "outputs": [
    {
     "name": "stdout",
     "output_type": "stream",
     "text": [
      "Enter a menu choice (Q, A, K or L)a\n",
      "A selected\n"
     ]
    }
   ],
   "source": [
    "#Program 42- Menu system\n",
    "\n",
    "m=input('Enter a menu choice (Q, A, K or L)')\n",
    "while not(m.upper()=='Q' or m.upper()=='A' or m.upper()=='K' or m.upper()=='L'):\n",
    "    print(m,\"is not valid. Enter Q, A, K or L\")\n",
    "print(m.upper(),\"selected\")"
   ]
  },
  {
   "cell_type": "code",
   "execution_count": 22,
   "id": "0077dbfe",
   "metadata": {},
   "outputs": [
    {
     "name": "stdout",
     "output_type": "stream",
     "text": [
      "Enter a menu choice (Q, A, K or L)V\n",
      "V is not valid.\n",
      "Enter Q, A, K or LL\n",
      "L selected\n"
     ]
    }
   ],
   "source": [
    "m=input('Enter a menu choice (Q, A, K or L)')\n",
    "while not(m.upper()=='Q' or m.upper()=='A' or m.upper()=='K' or m.upper()=='L'):\n",
    "    print(m,\"is not valid.\") \n",
    "    m=input('Enter Q, A, K or L')\n",
    "print(m.upper(),\"selected\")"
   ]
  },
  {
   "cell_type": "code",
   "execution_count": 23,
   "id": "dbcc31b9",
   "metadata": {},
   "outputs": [
    {
     "name": "stdout",
     "output_type": "stream",
     "text": [
      "Guess the hidden number between 1 and 100.\n",
      "Enter your guess112\n",
      "Your guess was invalid. Enter it again.\n",
      "67\n",
      "Your guess was too high. Try it again.\n",
      "50\n",
      "Your guess was too low. Try again.\n",
      "52\n",
      "Correct! Well Done.\n"
     ]
    }
   ],
   "source": [
    "#Program 43- Guess the number\n",
    "\n",
    "print(\"Guess the hidden number between 1 and 100.\")\n",
    "g=int(input(\"Enter your guess\"))\n",
    "while g>100 or g<1:\n",
    "    print(\"Your guess was invalid. Enter it again.\")\n",
    "    g=int(input())\n",
    "    while g>52:\n",
    "        print(\"Your guess was too high. Try it again.\")\n",
    "        g=int(input())\n",
    "    while g<52:\n",
    "        print(\"Your guess was too low. Try again.\")\n",
    "        g=int(input())\n",
    "print(\"Correct! Well Done.\")"
   ]
  },
  {
   "cell_type": "code",
   "execution_count": 24,
   "id": "65a90777",
   "metadata": {},
   "outputs": [
    {
     "name": "stdout",
     "output_type": "stream",
     "text": [
      "Week 1\n",
      "Please enter the seven temperatures12\n",
      "Please enter the seven temperatures14\n",
      "Please enter the seven temperatures7\n",
      "Please enter the seven temperatures6\n",
      "Please enter the seven temperatures66\n",
      "Temperatures should be between -40 and 55 centigrade.\n",
      "7\n",
      "Please enter the seven temperatures11\n",
      "Please enter the seven temperatures11\n",
      "Week 1 average was:\n",
      "9.71 degrees centigrade.\n",
      "Week 2\n",
      "Please enter the seven temperatures32\n",
      "Please enter the seven temperatures31\n",
      "Please enter the seven temperatures30\n",
      "Please enter the seven temperatures42\n",
      "Please enter the seven temperatures29\n",
      "Please enter the seven temperatures25\n",
      "Please enter the seven temperatures2215\n",
      "Temperatures should be between -40 and 55 centigrade.\n",
      "22\n",
      "Week 2 average was:\n",
      "30.14 degrees centigrade.\n",
      "Week 3\n",
      "Please enter the seven temperatures15\n",
      "Please enter the seven temperatures14\n",
      "Please enter the seven temperatures11\n",
      "Please enter the seven temperatures12\n",
      "Please enter the seven temperatures9\n",
      "Please enter the seven temperatures5\n",
      "Please enter the seven temperatures3\n",
      "Week 3 average was:\n",
      "9.86 degrees centigrade.\n",
      "Week 4\n",
      "Please enter the seven temperatures2\n",
      "Please enter the seven temperatures-1\n",
      "Please enter the seven temperatures-5\n",
      "Please enter the seven temperatures0\n",
      "Please enter the seven temperatures1\n",
      "Please enter the seven temperatures2\n",
      "Please enter the seven temperatures2\n",
      "Week 4 average was:\n",
      "0.14 degrees centigrade.\n"
     ]
    }
   ],
   "source": [
    "#Progarm 44- Average temperature (part 2)\n",
    "\n",
    "for n in range(4):\n",
    "    temp=0\n",
    "    print(\"Week\",n+1)\n",
    "    for counter in range(7):\n",
    "        t=float(input('Please enter the seven temperatures'))\n",
    "        while t<float(-40 )or t>55:\n",
    "            print(\"Temperatures should be between -40 and 55 centigrade.\")\n",
    "            t=float(input())\n",
    "        temp=temp+t\n",
    "    print(\"Week\",n+1,\"average was:\")\n",
    "    print(round(temp/7,2),\"degrees centigrade.\")"
   ]
  },
  {
   "cell_type": "code",
   "execution_count": 11,
   "id": "f2c407ac",
   "metadata": {},
   "outputs": [
    {
     "name": "stdout",
     "output_type": "stream",
     "text": [
      "Please enter the scores for player one.\n",
      "34\n",
      "26\n",
      "200\n",
      "Invalid score.\n",
      "100\n",
      "Please enter the scores for player two.\n",
      "78\n",
      "80\n",
      "97\n",
      "Player one scored the highest individual score.\n",
      "Player one wins.\n"
     ]
    }
   ],
   "source": [
    "#Program 45- Pailwater darts tournament\n",
    "\n",
    "S=[]\n",
    "T=[]\n",
    "print('Please enter the scores for player one.')\n",
    "for rounds in range(3):\n",
    "        s=int(input())\n",
    "        while s<0 or s>180:\n",
    "            print(\"Invalid score.\")\n",
    "            s=int(input())\n",
    "        S.append(s)\n",
    "print('Please enter the scores for player two.')\n",
    "for rounds in range(3):\n",
    "        t=int(input())\n",
    "        while t<0 or t>180:\n",
    "            print(\"Invalid score.\")\n",
    "            t=int(input())\n",
    "        T.append(t)\n",
    "if S[rounds]>T[rounds]:\n",
    "    print(\"Player one scored the highest individual score.\" )\n",
    "    print(\"Player one wins.\")\n",
    "else:\n",
    "    print(\"Player two scored the highest individual score.\" )\n",
    "    print(\"Player two wins.\")\n"
   ]
  },
  {
   "cell_type": "code",
   "execution_count": null,
   "id": "6afe9ff3",
   "metadata": {},
   "outputs": [],
   "source": [
    "200\n"
   ]
  },
  {
   "cell_type": "code",
   "execution_count": null,
   "id": "03072344",
   "metadata": {},
   "outputs": [],
   "source": []
  }
 ],
 "metadata": {
  "kernelspec": {
   "display_name": "Python 3 (ipykernel)",
   "language": "python",
   "name": "python3"
  },
  "language_info": {
   "codemirror_mode": {
    "name": "ipython",
    "version": 3
   },
   "file_extension": ".py",
   "mimetype": "text/x-python",
   "name": "python",
   "nbconvert_exporter": "python",
   "pygments_lexer": "ipython3",
   "version": "3.9.7"
  }
 },
 "nbformat": 4,
 "nbformat_minor": 5
}
