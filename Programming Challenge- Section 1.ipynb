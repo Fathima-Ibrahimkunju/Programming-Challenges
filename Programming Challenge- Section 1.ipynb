{
 "cells": [
  {
   "cell_type": "code",
   "execution_count": 1,
   "id": "b5d83c27",
   "metadata": {
    "scrolled": true
   },
   "outputs": [
    {
     "name": "stdout",
     "output_type": "stream",
     "text": [
      "Please enter your nameLister\n",
      "What is your age?39\n",
      "Whatis your favourite TV Program?Red Dwarf\n",
      "Lister\n",
      "is\n",
      "39\n",
      "years old and likes\n",
      "Red Dwarf\n"
     ]
    }
   ],
   "source": [
    "#Program1 - Three in, three out\n",
    "\n",
    "name=input('Please enter your name')\n",
    "age=input('What is your age?')\n",
    "fp=input('Whatis your favourite TV Program?')\n",
    "print(name)\n",
    "print(\"is\")\n",
    "print(age)\n",
    "print(\"years old and likes\")\n",
    "print(fp)\n"
   ]
  },
  {
   "cell_type": "code",
   "execution_count": 5,
   "id": "867fd1ff",
   "metadata": {},
   "outputs": [
    {
     "name": "stdout",
     "output_type": "stream",
     "text": [
      "Tennant David\n"
     ]
    }
   ],
   "source": [
    "#Program 2- Name swapper\n",
    "\n",
    "a=\"David\"\n",
    "b=\"Tennant\"\n",
    "print(b,a)"
   ]
  },
  {
   "cell_type": "code",
   "execution_count": 4,
   "id": "f6c87e51",
   "metadata": {},
   "outputs": [
    {
     "name": "stdout",
     "output_type": "stream",
     "text": [
      "Please enter your nameLister\n",
      "What is your age?39\n",
      "Whatis your favourite TV Program?Red Dwarf\n",
      "Lister 39\n",
      "Likes watching Red Dwarf\n"
     ]
    }
   ],
   "source": [
    "#Program 3- Three in, three out(formatted)\n",
    "\n",
    "name=input('Please enter your name')\n",
    "age=input('What is your age?')\n",
    "fp=input('Whatis your favourite TV Program?')\n",
    "print(name,age)\n",
    "print(\"Likes watching\", fp)\n"
   ]
  },
  {
   "cell_type": "code",
   "execution_count": 6,
   "id": "811677a7",
   "metadata": {},
   "outputs": [
    {
     "name": "stdout",
     "output_type": "stream",
     "text": [
      "KY8 9HL\n"
     ]
    }
   ],
   "source": [
    "#Programm 4- Postcode formatter\n",
    "\n",
    "a=\"KY\"\n",
    "b=\"8\"\n",
    "c=\"9\"\n",
    "d=\"HL\"\n",
    "print(a+b,c+d)"
   ]
  },
  {
   "cell_type": "code",
   "execution_count": 7,
   "id": "0a8cb1ab",
   "metadata": {},
   "outputs": [
    {
     "name": "stdout",
     "output_type": "stream",
     "text": [
      "Please enter the length of the rectangle12\n",
      "Please enter the width of the rectangle6\n",
      "The area of the rectangle is 72 square centimetres.\n"
     ]
    }
   ],
   "source": [
    "#Program 5- Calculate the area of a rectangle\n",
    "\n",
    "l=int(input('Please enter the length of the rectangle'))\n",
    "w=int(input('Please enter the width of the rectangle'))\n",
    "print(\"The area of the rectangle is\",l*w,\"square centimetres.\")"
   ]
  },
  {
   "cell_type": "code",
   "execution_count": 8,
   "id": "758ca38d",
   "metadata": {},
   "outputs": [
    {
     "name": "stdout",
     "output_type": "stream",
     "text": [
      "26\n"
     ]
    }
   ],
   "source": [
    "#Program 6- Number generator\n",
    "\n",
    "a=\"2\"\n",
    "b=\"6\"\n",
    "print(a+b)"
   ]
  },
  {
   "cell_type": "code",
   "execution_count": 9,
   "id": "b891fda7",
   "metadata": {},
   "outputs": [
    {
     "name": "stdout",
     "output_type": "stream",
     "text": [
      "KY8 9HL\n"
     ]
    }
   ],
   "source": [
    "#Program 7- Postcode formatter(part2)\n",
    "\n",
    "a=\"KY\"\n",
    "b=\"8\"\n",
    "c=\"9\"\n",
    "d=\"hl\"\n",
    "print(a+b,c+d.upper())"
   ]
  },
  {
   "cell_type": "code",
   "execution_count": 11,
   "id": "90032c11",
   "metadata": {},
   "outputs": [
    {
     "name": "stdout",
     "output_type": "stream",
     "text": [
      "Please enter your forenameDavid\n",
      "Please enter your surnameStott\n",
      "There are 10 letters in your name.\n"
     ]
    }
   ],
   "source": [
    "#Program8- Name length\n",
    "\n",
    "f=input('Please enter your forename')\n",
    "s=input('Please enter your surname')\n",
    "print(\"There are\",len(f)+len(s),\"letters in your name.\")"
   ]
  },
  {
   "cell_type": "code",
   "execution_count": 12,
   "id": "83d6e82a",
   "metadata": {},
   "outputs": [
    {
     "name": "stdout",
     "output_type": "stream",
     "text": [
      "Please enter a sentence of your choiceLike, I am your father\n",
      "Your sentence contained the following:\n",
      "a= 2\n",
      "e= 2\n",
      "i= 2\n",
      "o= 1\n",
      "u= 1\n",
      "This is a total of 8 vowels\n"
     ]
    }
   ],
   "source": [
    "#Program 9- Counting vowels\n",
    "\n",
    "a=input('Please enter a sentence of your choice')\n",
    "q=a.lower()\n",
    "a=q.count(\"a\")\n",
    "e=q.count(\"e\")\n",
    "i=q.count(\"i\")\n",
    "o=q.count(\"o\")\n",
    "u=q.count(\"u\")\n",
    "print(\"Your sentence contained the following:\")\n",
    "print(\"a=\",a)\n",
    "print(\"e=\",e)\n",
    "print(\"i=\",i)\n",
    "print(\"o=\",o)\n",
    "print(\"u=\",u)\n",
    "print(\"This is a total of\",a+e+i+o+u,\"vowels\")"
   ]
  },
  {
   "cell_type": "code",
   "execution_count": 13,
   "id": "72a175fe",
   "metadata": {},
   "outputs": [
    {
     "name": "stdout",
     "output_type": "stream",
     "text": [
      "Please enter the male reportHe should always ensure that his answers contain as much detail as possilble.\n",
      "The female comment is:\n",
      "She should always ensure that her answers contain as much detail as possilble.\n"
     ]
    }
   ],
   "source": [
    "#Program 10- Changing gender\n",
    "\n",
    "q=input(\"Please enter the male report\")\n",
    "r=q.replace(\"He\",\"She\")\n",
    "r1=r.replace(\"his\",\"her\")\n",
    "print(\"The female comment is:\")\n",
    "print(r1)"
   ]
  },
  {
   "cell_type": "code",
   "execution_count": 14,
   "id": "598e46ee",
   "metadata": {},
   "outputs": [
    {
     "name": "stdout",
     "output_type": "stream",
     "text": [
      "Please enter the product namePlaza Beans\n",
      "Please enter the year2016\n",
      "The stock code for Plaza Beans is:\n",
      "Plns26\n"
     ]
    }
   ],
   "source": [
    "#Program 11- Stock code generator\n",
    "\n",
    "p=input('Please enter the product name')\n",
    "y=input('Please enter the year')\n",
    "print(\"The stock code for\",p,\"is:\")\n",
    "print(p[:2]+p[-2:]+y[:1]+y[-1:])"
   ]
  },
  {
   "cell_type": "code",
   "execution_count": 26,
   "id": "60c500ad",
   "metadata": {},
   "outputs": [
    {
     "name": "stdout",
     "output_type": "stream",
     "text": [
      "Please enter your first cost.12.78\n",
      "Please enter your second cost.6.32\n",
      "Please enter your third cost.34.99\n",
      "The total cost is  54.09\n",
      "The auction companies fee is 5.0\n"
     ]
    }
   ],
   "source": [
    "#Program 12- Auction fee\n",
    "\n",
    "import math\n",
    "c1=float(input('Please enter your first cost.'))\n",
    "c2=float(input('Please enter your second cost.'))\n",
    "c3=float(input('Please enter your third cost.'))\n",
    "c=c1+c2+c3\n",
    "print(\"The total cost is \",c)\n",
    "cp=c*(10/100)\n",
    "cr=round(cp,0)\n",
    "print(\"The auction companies fee is\",cr)      "
   ]
  },
  {
   "cell_type": "code",
   "execution_count": 5,
   "id": "fd5295ec",
   "metadata": {},
   "outputs": [
    {
     "name": "stdout",
     "output_type": "stream",
     "text": [
      "Please enter the radius of the circle in cms.16\n",
      "The area of the circle is:\n",
      "803.84 square centimetres.\n"
     ]
    }
   ],
   "source": [
    "#Program 13- Calculate the area of a circle\n",
    "\n",
    "r=int(input('Please enter the radius of the circle in cms.'))\n",
    "print(\"The area of the circle is:\")\n",
    "print(3.14*(r**2),\"square centimetres.\")"
   ]
  },
  {
   "cell_type": "code",
   "execution_count": 7,
   "id": "8675517b",
   "metadata": {},
   "outputs": [
    {
     "name": "stdout",
     "output_type": "stream",
     "text": [
      "Please enter the volume of the jar(cm3):2712.96\n",
      "Please enter the volume of one sweet(cm3):2.12\n",
      "1279 sweets fit into the jar.\n"
     ]
    }
   ],
   "source": [
    "#Program 14- Prize down cheat\n",
    "\n",
    "j=float(input('Please enter the volume of the jar(cm3):'))\n",
    "s=float(input('Please enter the volume of one sweet(cm3):'))\n",
    "print(int(j/s),\"sweets fit into the jar.\")"
   ]
  },
  {
   "cell_type": "code",
   "execution_count": 9,
   "id": "8f2d3fa0",
   "metadata": {},
   "outputs": [
    {
     "name": "stdout",
     "output_type": "stream",
     "text": [
      "Enter the area in m2 to be painted.178\n",
      "Enter the area in m2 that a single pot covers.25\n",
      "You will need 8 pots of paint.\n",
      "You can paint 22.0 m2 with the leftover paint.\n"
     ]
    }
   ],
   "source": [
    "#Program 15- Leftover paint\n",
    "\n",
    "import math\n",
    "a=float(input('Enter the area in m2 to be painted.'))\n",
    "ap=float(input('Enter the area in m2 that a single pot covers.'))\n",
    "np=math.ceil(a/ap)\n",
    "alp=(np*ap)-a\n",
    "print(\"You will need\",np,\"pots of paint.\")\n",
    "print(\"You can paint\",alp,\"m2 with the leftover paint.\")"
   ]
  },
  {
   "cell_type": "code",
   "execution_count": 27,
   "id": "ffe245e1",
   "metadata": {},
   "outputs": [
    {
     "name": "stdout",
     "output_type": "stream",
     "text": [
      "Please enter the length of the brick in cm:20\n",
      "Please enter the length of the wall in m:9.89\n",
      "47 bricks bulid one row of wall.\n",
      "This is 2.0 cm short of the required wall length.\n"
     ]
    }
   ],
   "source": [
    "# Program 16- Laying bricks\n",
    "\n",
    "b=float(input('Please enter the length of the brick in cm:'))\n",
    "w=float(input('Please enter the length of the wall in m:'))\n",
    "nb=int((w*100)/(b+1))\n",
    "wl=(w*100)-((b+1)*nb)\n",
    "print(nb,\"bricks bulid one row of wall.\")\n",
    "print(\"This is\",wl,\"cm short of the required wall length.\")"
   ]
  },
  {
   "cell_type": "code",
   "execution_count": 32,
   "id": "7a5a9b80",
   "metadata": {},
   "outputs": [
    {
     "name": "stdout",
     "output_type": "stream",
     "text": [
      "Enter the number of carbon atoms:3\n",
      "The atomic mass of C3H8 is 44\n"
     ]
    }
   ],
   "source": [
    "#Program 17- Calculate the atomic weight of hydrocarbons\n",
    "\n",
    "c=int(input('Enter the number of carbon atoms:'))\n",
    "h=(c*2)+2\n",
    "print(\"The atomic mass of\",\"C\"+str(c)+\"H\"+str(h),\"is\",(c*12)+h)"
   ]
  },
  {
   "cell_type": "code",
   "execution_count": 3,
   "id": "fe569f9f",
   "metadata": {},
   "outputs": [
    {
     "name": "stdout",
     "output_type": "stream",
     "text": [
      "How many par 3 holes are there?6\n",
      "How many par 4 holes are there?10\n",
      "How many par 5 holes are there?2\n",
      "What is the difficulty adjustment for the course?-2\n",
      "The standard scratch score for the course is:\n",
      "66\n"
     ]
    }
   ],
   "source": [
    "#Program 18- Standard scratch\n",
    "\n",
    "p3=int(input('How many par 3 holes are there?'))\n",
    "p4=int(input('How many par 4 holes are there?'))\n",
    "p5=int(input('How many par 5 holes are there?'))\n",
    "da=int(input('What is the difficulty adjustment for the course?'))\n",
    "print(\"The standard scratch score for the course is:\")\n",
    "print((p3*3)+(p4*4)+(p5*5)+da)"
   ]
  },
  {
   "cell_type": "code",
   "execution_count": 1,
   "id": "afa4fc74",
   "metadata": {
    "scrolled": true
   },
   "outputs": [
    {
     "name": "stdout",
     "output_type": "stream",
     "text": [
      "What is the circumference of your wheel in millimetres?1250\n",
      "How many wheel reveolutions have taken place in your journey?8920\n",
      "How many minutes did you cycle for?30\n",
      "You covered 11.15 km.\n",
      "At an average speed of 22.3 kmh.\n"
     ]
    }
   ],
   "source": [
    "#Program 19- Cycling speed\n",
    "\n",
    "c=float(input('What is the circumference of your wheel in millimetres?'))\n",
    "r=float(input('How many wheel reveolutions have taken place in your journey?'))\n",
    "t=float(input('How many minutes did you cycle for?'))\n",
    "d=(c*r)/(10**6)\n",
    "print(\"You covered\",d,\"km.\")\n",
    "print(\"At an average speed of\",d/(t/60),\"kmh.\")"
   ]
  },
  {
   "cell_type": "code",
   "execution_count": null,
   "id": "bc1050aa",
   "metadata": {},
   "outputs": [],
   "source": []
  }
 ],
 "metadata": {
  "kernelspec": {
   "display_name": "Python 3 (ipykernel)",
   "language": "python",
   "name": "python3"
  },
  "language_info": {
   "codemirror_mode": {
    "name": "ipython",
    "version": 3
   },
   "file_extension": ".py",
   "mimetype": "text/x-python",
   "name": "python",
   "nbconvert_exporter": "python",
   "pygments_lexer": "ipython3",
   "version": "3.9.7"
  }
 },
 "nbformat": 4,
 "nbformat_minor": 5
}
