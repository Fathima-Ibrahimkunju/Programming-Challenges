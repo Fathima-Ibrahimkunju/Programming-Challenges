{
 "cells": [
  {
   "cell_type": "code",
   "execution_count": 3,
   "id": "f2889294",
   "metadata": {},
   "outputs": [
    {
     "name": "stdout",
     "output_type": "stream",
     "text": [
      "Would you like some advice?Y\n",
      "Always know where your towel is.\n"
     ]
    }
   ],
   "source": [
    "#Program 20- Advice please\n",
    "\n",
    "Q=str(input(\"Would you like some advice?\"))\n",
    "if Q == \"Y\":\n",
    "    print(\"Always know where your towel is.\")"
   ]
  },
  {
   "cell_type": "code",
   "execution_count": 4,
   "id": "bfd5ca43",
   "metadata": {},
   "outputs": [
    {
     "name": "stdout",
     "output_type": "stream",
     "text": [
      "What is Black's score?88\n",
      "What is White's score?84\n",
      "After 6.5 is added the score is:\n",
      "Black- 88.0\n",
      "White- 90.5\n",
      "White is the winner.\n"
     ]
    }
   ],
   "source": [
    "#Program 21- Go winner\n",
    "\n",
    "b=float(input(\"What is Black's score?\"))\n",
    "w=float(input(\"What is White's score?\"))\n",
    "print(\"After 6.5 is added the score is:\")\n",
    "print(\"Black-\",b)\n",
    "w1=w+6.5\n",
    "print(\"White-\",w1)\n",
    "if b>w1:\n",
    "    print(\"Black is the winner.\")\n",
    "else:\n",
    "    print(\"White is the winner.\")"
   ]
  },
  {
   "cell_type": "code",
   "execution_count": 5,
   "id": "8c538c0b",
   "metadata": {},
   "outputs": [
    {
     "name": "stdout",
     "output_type": "stream",
     "text": [
      "Please enter the first amount raised.398\n",
      "Please enter the second amount raised.193\n",
      "Please enter the third amount raised.478\n",
      "A total of 1069.0 was raised.\n",
      "This will be doubled to 2138.0 .\n"
     ]
    }
   ],
   "source": [
    "#Program 22- Charity Collection\n",
    "\n",
    "a1=float(input('Please enter the first amount raised.'))\n",
    "a2=float(input('Please enter the second amount raised.'))\n",
    "a3=float(input('Please enter the third amount raised.'))\n",
    "a=a1+a2+a3\n",
    "print(\"A total of\",a,\"was raised.\")\n",
    "if a>=1000: \n",
    "    print(\"This will be doubled to\",a*2,\".\")"
   ]
  },
  {
   "cell_type": "code",
   "execution_count": 6,
   "id": "976a763c",
   "metadata": {},
   "outputs": [
    {
     "name": "stdout",
     "output_type": "stream",
     "text": [
      "Please enter the length of rectangle_1:12\n",
      "Please enter the width of rectangle_1:6\n",
      "Please enter the length of rectangle_2:7\n",
      "Please enter the width of rectangle_2:9\n",
      "Rectangle 1 has the largest area.\n"
     ]
    }
   ],
   "source": [
    "#Program 23- Calculate the area of a rectangle (part 2)\n",
    "\n",
    "lr1=float(input('Please enter the length of rectangle_1:'))\n",
    "wr1=float(input('Please enter the width of rectangle_1:'))\n",
    "lr2=float(input('Please enter the length of rectangle_2:'))\n",
    "wr2=float(input('Please enter the width of rectangle_2:'))\n",
    "ar1=lr1*wr1\n",
    "ar2=lr2*wr2\n",
    "if ar1>ar2:\n",
    "    print(\"Rectangle 1 has the largest area.\")\n",
    "if ar1<ar2:\n",
    "    print(\"Rectangle 2 has the largest area.\")\n",
    "if ar1==ar2:\n",
    "    print(\"Rectangle 1 and Rectangle 2 has equal area.\")"
   ]
  },
  {
   "cell_type": "code",
   "execution_count": 7,
   "id": "bddc404d",
   "metadata": {},
   "outputs": [
    {
     "name": "stdout",
     "output_type": "stream",
     "text": [
      "Enter sentence 1You can't handle the truth!\n",
      "Enter sentence 2Houston, we have a problem.\n",
      "The percentage of vowels in sentence 1 is 25.93\n",
      "The percentage of vowels in sentence 2 is 33.33\n",
      "Sentence 1 has 7 vowels.\n",
      "Sentence 2 has 9 vowels.\n",
      "Sentence 2 has more vowels.\n"
     ]
    }
   ],
   "source": [
    "#Program 24- The most vowels\n",
    "\n",
    "s_1=input('Enter sentence 1')\n",
    "s_2=input('Enter sentence 2')\n",
    "s1=s_1.lower()\n",
    "s2=s_2.lower()\n",
    "s1a=s1.count('a')\n",
    "s1e=s1.count('e')\n",
    "s1i=s1.count('i')\n",
    "s1o=s1.count('o')\n",
    "s1u=s1.count('u')\n",
    "s2a=s2.count('a')\n",
    "s2e=s2.count('e')\n",
    "s2i=s2.count('i')\n",
    "s2o=s2.count('o')\n",
    "s2u=s2.count('u')\n",
    "s1vc=s1a+s1e+s1i+s1o+s1u\n",
    "s2vc=s2a+s2e+s2i+s2o+s2u\n",
    "s1c=len(s1)\n",
    "s2c=len(s2)\n",
    "s1p=(s1vc/s1c)*100\n",
    "s2p=(s2vc/s2c)*100\n",
    "print(\"The percentage of vowels in sentence 1 is\",round(s1p,2))\n",
    "print(\"The percentage of vowels in sentence 2 is\",round(s2p,2))\n",
    "print(\"Sentence 1 has\",s1vc,\"vowels.\")\n",
    "print(\"Sentence 2 has\",s2vc,\"vowels.\")\n",
    "if s1vc>s2vc:\n",
    "    print(\"Sentence 1 has more vowels.\")\n",
    "if s1vc<s2vc:\n",
    "    print(\"Sentence 2 has more vowels.\")\n",
    "if s1vc==s2vc:\n",
    "    print(\"Sentence 1 and 2 have equal number of vowels.\")"
   ]
  },
  {
   "cell_type": "code",
   "execution_count": 8,
   "id": "4019320e",
   "metadata": {},
   "outputs": [
    {
     "name": "stdout",
     "output_type": "stream",
     "text": [
      "Would you like some advice?D\n",
      "Sorry, you were asked to enter Y or N.\n"
     ]
    }
   ],
   "source": [
    "#Program 25- Advice please (part 2)\n",
    "\n",
    "Q=str(input(\"Would you like some advice?\"))\n",
    "if Q == \"Y\":\n",
    "    print(\"Always know where your towel is.\")\n",
    "if Q== \"N\":\n",
    "    print(\"Ok fine.\")\n",
    "else:\n",
    "    print(\"Sorry, you were asked to enter Y or N.\")"
   ]
  },
  {
   "cell_type": "code",
   "execution_count": 9,
   "id": "210dd723",
   "metadata": {},
   "outputs": [
    {
     "name": "stdout",
     "output_type": "stream",
     "text": [
      "Please enter the test speed(30 or 50 mph)50\n",
      "Please enter the tested stopping distance(m)39.7\n",
      "Your car failed the braking distance test.\n"
     ]
    }
   ],
   "source": [
    "#Program 26- Car tyre check\n",
    "\n",
    "import math\n",
    "s=int(input('Please enter the test speed(30 or 50 mph)'))\n",
    "d1=float(input('Please enter the tested stopping distance(m)'))\n",
    "d=math.ceil(d1)\n",
    "if s==30 and d<=14:\n",
    "    print(\"Your car passed the braking distance test.\")\n",
    "if s==30 and d>14:\n",
    "    print(\"Your car failed the braking distance test.\")\n",
    "if s==50 and d<=38:\n",
    "    print(\"Your car passed the braking distance test.\")\n",
    "if s==50 and d>38:\n",
    "    print(\"Your car failed the braking distance test.\")"
   ]
  },
  {
   "cell_type": "code",
   "execution_count": 10,
   "id": "4b587833",
   "metadata": {},
   "outputs": [
    {
     "name": "stdout",
     "output_type": "stream",
     "text": [
      "Please enter the first amount raised.740\n",
      "Please enter the second amount raised.690\n",
      "Please enter the third amount raised.1024\n",
      "A total of 2454.0 was raised.\n",
      "With a company bonus, this is 4454.0 .\n"
     ]
    }
   ],
   "source": [
    "#Program 27- Charity collection (Part 2)\n",
    "\n",
    "a1=float(input('Please enter the first amount raised.'))\n",
    "a2=float(input('Please enter the second amount raised.'))\n",
    "a3=float(input('Please enter the third amount raised.'))\n",
    "a=a1+a2+a3\n",
    "print(\"A total of\",a,\"was raised.\")\n",
    "if a<1000: \n",
    "    print(\"With a company bonus, this is\",a+100,\".\")\n",
    "if a>=1000 and a<2000:\n",
    "    print(\"With a company bonus, this is\",a*2,\".\")\n",
    "if a>=2000:\n",
    "    print(\"With a company bonus, this is\",(2*2000)+(a-2000),\".\")"
   ]
  },
  {
   "cell_type": "code",
   "execution_count": null,
   "id": "ef25a37f",
   "metadata": {},
   "outputs": [],
   "source": []
  }
 ],
 "metadata": {
  "kernelspec": {
   "display_name": "Python 3 (ipykernel)",
   "language": "python",
   "name": "python3"
  },
  "language_info": {
   "codemirror_mode": {
    "name": "ipython",
    "version": 3
   },
   "file_extension": ".py",
   "mimetype": "text/x-python",
   "name": "python",
   "nbconvert_exporter": "python",
   "pygments_lexer": "ipython3",
   "version": "3.9.7"
  }
 },
 "nbformat": 4,
 "nbformat_minor": 5
}
